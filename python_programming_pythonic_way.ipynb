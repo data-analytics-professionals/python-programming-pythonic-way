{
  "nbformat": 4,
  "nbformat_minor": 0,
  "metadata": {
    "colab": {
      "name": "python-programming-pythonic-way",
      "provenance": [],
      "authorship_tag": "ABX9TyNrfJCQtg3128eAcsdEwTQF"
    },
    "kernelspec": {
      "name": "python3",
      "display_name": "Python 3"
    }
  },
  "cells": [
    {
      "cell_type": "code",
      "metadata": {
        "id": "q3x37clbvmip"
      },
      "source": [
        ""
      ],
      "execution_count": null,
      "outputs": []
    }
  ]
}