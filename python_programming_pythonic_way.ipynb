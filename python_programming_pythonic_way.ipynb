{
  "nbformat": 4,
  "nbformat_minor": 0,
  "metadata": {
    "colab": {
      "name": "python-programming-pythonic-way",
      "provenance": [],
      "collapsed_sections": [],
      "authorship_tag": "ABX9TyOJXqFQ/qpWXfA+WxJPkFpx"
    },
    "kernelspec": {
      "name": "python3",
      "display_name": "Python 3"
    }
  },
  "cells": [
    {
      "cell_type": "markdown",
      "metadata": {
        "id": "oWrfAz05_RXs"
      },
      "source": [
        "# Load Neccessay Libraries "
      ]
    },
    {
      "cell_type": "code",
      "metadata": {
        "id": "cC2ccZLM_bWa"
      },
      "source": [
        "import numpy as np"
      ],
      "execution_count": 1,
      "outputs": []
    },
    {
      "cell_type": "markdown",
      "metadata": {
        "id": "r0vhvpcc0hr8"
      },
      "source": [
        "# List Comprehension"
      ]
    },
    {
      "cell_type": "code",
      "metadata": {
        "colab": {
          "base_uri": "https://localhost:8080/"
        },
        "id": "q3x37clbvmip",
        "outputId": "bccb5e82-50b3-46bf-aa21-fc844319a1d5"
      },
      "source": [
        "# create a list names with some names\r\n",
        "names = ['Asiya', 'Shahnaz', 'Ibrahim','John', 'Jerry', 'Khan', 'Kramer', 'Ebrahim', 'Elaine', 'George', 'Newman']\r\n",
        "\r\n",
        "# Print the list created by using list comprehension\r\n",
        "best_list = [name for name in names if len(name) >= 6]\r\n",
        "print(best_list)"
      ],
      "execution_count": 2,
      "outputs": [
        {
          "output_type": "stream",
          "text": [
            "['Shahnaz', 'Ibrahim', 'Kramer', 'Ebrahim', 'Elaine', 'George', 'Newman']\n"
          ],
          "name": "stdout"
        }
      ]
    },
    {
      "cell_type": "markdown",
      "metadata": {
        "id": "AWUmRoCb0omk"
      },
      "source": [
        "# Zen of Python"
      ]
    },
    {
      "cell_type": "code",
      "metadata": {
        "colab": {
          "base_uri": "https://localhost:8080/"
        },
        "id": "5-3RY02tx8pq",
        "outputId": "d5203839-9194-4d2c-ac73-6f986f85272b"
      },
      "source": [
        "# Zen of Python\r\n",
        "import this "
      ],
      "execution_count": 3,
      "outputs": [
        {
          "output_type": "stream",
          "text": [
            "The Zen of Python, by Tim Peters\n",
            "\n",
            "Beautiful is better than ugly.\n",
            "Explicit is better than implicit.\n",
            "Simple is better than complex.\n",
            "Complex is better than complicated.\n",
            "Flat is better than nested.\n",
            "Sparse is better than dense.\n",
            "Readability counts.\n",
            "Special cases aren't special enough to break the rules.\n",
            "Although practicality beats purity.\n",
            "Errors should never pass silently.\n",
            "Unless explicitly silenced.\n",
            "In the face of ambiguity, refuse the temptation to guess.\n",
            "There should be one-- and preferably only one --obvious way to do it.\n",
            "Although that way may not be obvious at first unless you're Dutch.\n",
            "Now is better than never.\n",
            "Although never is often better than *right* now.\n",
            "If the implementation is hard to explain, it's a bad idea.\n",
            "If the implementation is easy to explain, it may be a good idea.\n",
            "Namespaces are one honking great idea -- let's do more of those!\n"
          ],
          "name": "stdout"
        }
      ]
    },
    {
      "cell_type": "markdown",
      "metadata": {
        "id": "OknwSxUC0yxi"
      },
      "source": [
        "# Range and Lists"
      ]
    },
    {
      "cell_type": "code",
      "metadata": {
        "colab": {
          "base_uri": "https://localhost:8080/"
        },
        "id": "cqhIkuhyzYvR",
        "outputId": "cfd03fd7-8ecb-4c83-a745-4f320e82a4a0"
      },
      "source": [
        "# Create a range object that goes from 0 to 100\r\n",
        "nums = range(101)\r\n",
        "print(type(nums))\r\n",
        "\r\n",
        "# Convert nums to a list\r\n",
        "nums_list = list(nums)\r\n",
        "print(nums_list)\r\n",
        "\r\n",
        "# Create a new list of odd numbers from 1 to 111 by unpacking a range object\r\n",
        "nums_list2 = [*range(1,112,2)]\r\n",
        "print(nums_list2)"
      ],
      "execution_count": 4,
      "outputs": [
        {
          "output_type": "stream",
          "text": [
            "<class 'range'>\n",
            "[0, 1, 2, 3, 4, 5, 6, 7, 8, 9, 10, 11, 12, 13, 14, 15, 16, 17, 18, 19, 20, 21, 22, 23, 24, 25, 26, 27, 28, 29, 30, 31, 32, 33, 34, 35, 36, 37, 38, 39, 40, 41, 42, 43, 44, 45, 46, 47, 48, 49, 50, 51, 52, 53, 54, 55, 56, 57, 58, 59, 60, 61, 62, 63, 64, 65, 66, 67, 68, 69, 70, 71, 72, 73, 74, 75, 76, 77, 78, 79, 80, 81, 82, 83, 84, 85, 86, 87, 88, 89, 90, 91, 92, 93, 94, 95, 96, 97, 98, 99, 100]\n",
            "[1, 3, 5, 7, 9, 11, 13, 15, 17, 19, 21, 23, 25, 27, 29, 31, 33, 35, 37, 39, 41, 43, 45, 47, 49, 51, 53, 55, 57, 59, 61, 63, 65, 67, 69, 71, 73, 75, 77, 79, 81, 83, 85, 87, 89, 91, 93, 95, 97, 99, 101, 103, 105, 107, 109, 111]\n"
          ],
          "name": "stdout"
        }
      ]
    },
    {
      "cell_type": "markdown",
      "metadata": {
        "id": "WvZZ2j3P2H9a"
      },
      "source": [
        "# Python's Built-in Function Enumerate"
      ]
    },
    {
      "cell_type": "markdown",
      "metadata": {
        "id": "OKA4CDy93-Yq"
      },
      "source": [
        "### Python's built-in enumerate() function allows to create an index for each item in the object you give it. We can use list comprehension, or even unpack the enumerate object directly into a list, to write a nice simple one-liner. Lets see this in action."
      ]
    },
    {
      "cell_type": "code",
      "metadata": {
        "colab": {
          "base_uri": "https://localhost:8080/"
        },
        "id": "NKFjz4p60dxJ",
        "outputId": "058c1775-b47f-4729-d269-67596adf443e"
      },
      "source": [
        "# for loop to use enumerate\r\n",
        "indexed_names = []\r\n",
        "for i, name in enumerate(names):\r\n",
        "    index_name = (i,name)\r\n",
        "    indexed_names.append(index_name) \r\n",
        "print(indexed_names)\r\n",
        "\r\n",
        "# Rewrite the above for loop using list comprehension\r\n",
        "indexed_names_comp = [(i, name) for i,name in enumerate(names)]\r\n",
        "print(indexed_names_comp)\r\n",
        "\r\n",
        "# Unpack an enumerate object with a starting index of one\r\n",
        "indexed_names_unpack = [* enumerate(names, 1)]\r\n",
        "print(indexed_names_unpack)"
      ],
      "execution_count": 5,
      "outputs": [
        {
          "output_type": "stream",
          "text": [
            "[(0, 'Asiya'), (1, 'Shahnaz'), (2, 'Ibrahim'), (3, 'John'), (4, 'Jerry'), (5, 'Khan'), (6, 'Kramer'), (7, 'Ebrahim'), (8, 'Elaine'), (9, 'George'), (10, 'Newman')]\n",
            "[(0, 'Asiya'), (1, 'Shahnaz'), (2, 'Ibrahim'), (3, 'John'), (4, 'Jerry'), (5, 'Khan'), (6, 'Kramer'), (7, 'Ebrahim'), (8, 'Elaine'), (9, 'George'), (10, 'Newman')]\n",
            "[(1, 'Asiya'), (2, 'Shahnaz'), (3, 'Ibrahim'), (4, 'John'), (5, 'Jerry'), (6, 'Khan'), (7, 'Kramer'), (8, 'Ebrahim'), (9, 'Elaine'), (10, 'George'), (11, 'Newman')]\n"
          ],
          "name": "stdout"
        }
      ]
    },
    {
      "cell_type": "markdown",
      "metadata": {
        "id": "SlCralOz0Rmc"
      },
      "source": [
        "# Python's Built-in map() Function"
      ]
    },
    {
      "cell_type": "code",
      "metadata": {
        "colab": {
          "base_uri": "https://localhost:8080/"
        },
        "id": "A89aEKVn2cPL",
        "outputId": "d23071d1-90b1-4982-8a5f-beb3a70c6999"
      },
      "source": [
        "# Use map to apply str.upper function to each element in names\r\n",
        "names_map  = map(str.upper, names)\r\n",
        "\r\n",
        "# Print the type of the names_map\r\n",
        "print(type(names_map))\r\n",
        "\r\n",
        "# Unpack names_map into a list\r\n",
        "names_uppercase = [* names_map]\r\n",
        "\r\n",
        "# Print the list created above\r\n",
        "print(names_uppercase) "
      ],
      "execution_count": 6,
      "outputs": [
        {
          "output_type": "stream",
          "text": [
            "<class 'map'>\n",
            "['ASIYA', 'SHAHNAZ', 'IBRAHIM', 'JOHN', 'JERRY', 'KHAN', 'KRAMER', 'EBRAHIM', 'ELAINE', 'GEORGE', 'NEWMAN']\n"
          ],
          "name": "stdout"
        }
      ]
    },
    {
      "cell_type": "markdown",
      "metadata": {
        "id": "RC5kuVBV-gZj"
      },
      "source": [
        "# Numpy Arrays"
      ]
    },
    {
      "cell_type": "code",
      "metadata": {
        "id": "BPjfDDa9_IU9"
      },
      "source": [
        "# create a numpy array nums\r\n",
        "nums = np.array([[ 1,  2,  3,  4,  5], [ 6,  7,  8,  9, 10]])"
      ],
      "execution_count": 7,
      "outputs": []
    },
    {
      "cell_type": "code",
      "metadata": {
        "colab": {
          "base_uri": "https://localhost:8080/"
        },
        "id": "1pp_1rrj_oVp",
        "outputId": "29087b06-6d6a-4e22-ecbc-f8638871c712"
      },
      "source": [
        "# Display elements of nums\r\n",
        "nums"
      ],
      "execution_count": 8,
      "outputs": [
        {
          "output_type": "execute_result",
          "data": {
            "text/plain": [
              "array([[ 1,  2,  3,  4,  5],\n",
              "       [ 6,  7,  8,  9, 10]])"
            ]
          },
          "metadata": {
            "tags": []
          },
          "execution_count": 8
        }
      ]
    },
    {
      "cell_type": "code",
      "metadata": {
        "colab": {
          "base_uri": "https://localhost:8080/"
        },
        "id": "k1FK60V4_pVS",
        "outputId": "923e6445-9601-4a8e-9506-d70e4cd007f2"
      },
      "source": [
        "# Get data type of nums\r\n",
        "nums.dtype"
      ],
      "execution_count": 9,
      "outputs": [
        {
          "output_type": "execute_result",
          "data": {
            "text/plain": [
              "dtype('int64')"
            ]
          },
          "metadata": {
            "tags": []
          },
          "execution_count": 9
        }
      ]
    },
    {
      "cell_type": "code",
      "metadata": {
        "id": "RMwkahYqdkJM"
      },
      "source": [
        "# create a numpy array numbers\r\n",
        "numbers = np.array([[ 1,  2.5,  3,  4,  5], [ 6,  7,  8,  9.5, 10]])"
      ],
      "execution_count": 10,
      "outputs": []
    },
    {
      "cell_type": "code",
      "metadata": {
        "colab": {
          "base_uri": "https://localhost:8080/"
        },
        "id": "nf5v8FXGfu59",
        "outputId": "51d9b022-9f1f-4188-9445-37457429650d"
      },
      "source": [
        "# Display elements of numbers\r\n",
        "numbers"
      ],
      "execution_count": 11,
      "outputs": [
        {
          "output_type": "execute_result",
          "data": {
            "text/plain": [
              "array([[ 1. ,  2.5,  3. ,  4. ,  5. ],\n",
              "       [ 6. ,  7. ,  8. ,  9.5, 10. ]])"
            ]
          },
          "metadata": {
            "tags": []
          },
          "execution_count": 11
        }
      ]
    },
    {
      "cell_type": "code",
      "metadata": {
        "colab": {
          "base_uri": "https://localhost:8080/"
        },
        "id": "-MFYKEKhfzDG",
        "outputId": "428d5f36-a201-437b-e974-aa0134671905"
      },
      "source": [
        "# Get data type of numbers\r\n",
        "numbers.dtype"
      ],
      "execution_count": 12,
      "outputs": [
        {
          "output_type": "execute_result",
          "data": {
            "text/plain": [
              "dtype('float64')"
            ]
          },
          "metadata": {
            "tags": []
          },
          "execution_count": 12
        }
      ]
    },
    {
      "cell_type": "markdown",
      "metadata": {
        "id": "BSuR_-FkgBFr"
      },
      "source": [
        "# NumPy's Array Broadcasting and Vectorize Operations"
      ]
    },
    {
      "cell_type": "markdown",
      "metadata": {
        "id": "MLGNCcOrgczi"
      },
      "source": [
        "### Python lists don't support broadcasting. Using numpy arrays allows us to take advantage of an array's memory efficient nature and easily perform mathematical operations on our data."
      ]
    },
    {
      "cell_type": "code",
      "metadata": {
        "colab": {
          "base_uri": "https://localhost:8080/"
        },
        "id": "hJuV7a7hf4VB",
        "outputId": "e835c470-cf99-4cbc-8ebc-938c45e1b1e0"
      },
      "source": [
        "# Print second row of nums\r\n",
        "print(nums[0,1])"
      ],
      "execution_count": 13,
      "outputs": [
        {
          "output_type": "stream",
          "text": [
            "2\n"
          ],
          "name": "stdout"
        }
      ]
    },
    {
      "cell_type": "code",
      "metadata": {
        "colab": {
          "base_uri": "https://localhost:8080/"
        },
        "id": "F0ZJ1op_iQ5G",
        "outputId": "01f3e976-790c-46f9-f898-b1e468ab32c0"
      },
      "source": [
        "# Print all elements of nums that are greater than six\r\n",
        "print(nums[nums > 6])"
      ],
      "execution_count": 14,
      "outputs": [
        {
          "output_type": "stream",
          "text": [
            "[ 7  8  9 10]\n"
          ],
          "name": "stdout"
        }
      ]
    },
    {
      "cell_type": "code",
      "metadata": {
        "colab": {
          "base_uri": "https://localhost:8080/"
        },
        "id": "onyX5KyliaWS",
        "outputId": "f533d149-04fa-4eab-d906-154acbd9d388"
      },
      "source": [
        "# Double every element of nums\r\n",
        "nums_dbl = nums * 2\r\n",
        "print(nums_dbl)"
      ],
      "execution_count": 15,
      "outputs": [
        {
          "output_type": "stream",
          "text": [
            "[[ 2  4  6  8 10]\n",
            " [12 14 16 18 20]]\n"
          ],
          "name": "stdout"
        }
      ]
    },
    {
      "cell_type": "code",
      "metadata": {
        "colab": {
          "base_uri": "https://localhost:8080/"
        },
        "id": "bpuhla3jivDG",
        "outputId": "069282b5-3f67-428a-feeb-ef2e1ab0d6de"
      },
      "source": [
        "nums"
      ],
      "execution_count": 16,
      "outputs": [
        {
          "output_type": "execute_result",
          "data": {
            "text/plain": [
              "array([[ 1,  2,  3,  4,  5],\n",
              "       [ 6,  7,  8,  9, 10]])"
            ]
          },
          "metadata": {
            "tags": []
          },
          "execution_count": 16
        }
      ]
    },
    {
      "cell_type": "code",
      "metadata": {
        "colab": {
          "base_uri": "https://localhost:8080/"
        },
        "id": "SZQrLWAhicjB",
        "outputId": "ab3cb9ea-fc22-4160-ccc5-1519fafb39a4"
      },
      "source": [
        "# Replace the third column of nums\r\n",
        "nums[:,2] = nums[:, 2] + 1\r\n",
        "print(nums)"
      ],
      "execution_count": 17,
      "outputs": [
        {
          "output_type": "stream",
          "text": [
            "[[ 1  2  4  4  5]\n",
            " [ 6  7  9  9 10]]\n"
          ],
          "name": "stdout"
        }
      ]
    },
    {
      "cell_type": "markdown",
      "metadata": {
        "id": "dsYanaKpC9EN"
      },
      "source": [
        "# Task To Apply Everything"
      ]
    },
    {
      "cell_type": "code",
      "metadata": {
        "id": "HlC4MgGFC_e5"
      },
      "source": [
        "def welcome_guest(guest_and_time):\r\n",
        "  guest = guest_and_time[0]\r\n",
        "  arrival_time = guest_and_time[1]\r\n",
        "  welcome_string = \"Welcome to Festivus {}... You\\'re {} min late.\".format(guest,arrival_time)\r\n",
        "  return welcome_string"
      ],
      "execution_count": 22,
      "outputs": []
    },
    {
      "cell_type": "code",
      "metadata": {
        "id": "ab8z-0OqFtPe"
      },
      "source": [
        ""
      ],
      "execution_count": null,
      "outputs": []
    },
    {
      "cell_type": "code",
      "metadata": {
        "colab": {
          "base_uri": "https://localhost:8080/"
        },
        "id": "ptO2oiMrC8JA",
        "outputId": "a07b2514-eaff-4886-ab1c-0e2e8b8a8eb0"
      },
      "source": [
        "# Create a list of arrival times\r\n",
        "arrival_times = [*range(10,90,10)]\r\n",
        "\r\n",
        "# Convert arrival_times to an array and update the times\r\n",
        "arrival_times_np = np.array(arrival_times)\r\n",
        "new_times = arrival_times_np - 3\r\n",
        "\r\n",
        "# Use list comprehension and enumerate to pair guests to new times\r\n",
        "guest_arrivals = [(names[i],time) for i,time in enumerate(new_times)]\r\n",
        "\r\n",
        "# Map the welcome_guest function to each (guest,time) pair\r\n",
        "welcome_map = map(welcome_guest, guest_arrivals)\r\n",
        "\r\n",
        "guest_welcomes = [*welcome_map]\r\n",
        "print(*guest_welcomes, sep='\\n')"
      ],
      "execution_count": 23,
      "outputs": [
        {
          "output_type": "stream",
          "text": [
            "Welcome to Festivus Asiya... You're 7 min late.\n",
            "Welcome to Festivus Shahnaz... You're 17 min late.\n",
            "Welcome to Festivus Ibrahim... You're 27 min late.\n",
            "Welcome to Festivus John... You're 37 min late.\n",
            "Welcome to Festivus Jerry... You're 47 min late.\n",
            "Welcome to Festivus Khan... You're 57 min late.\n",
            "Welcome to Festivus Kramer... You're 67 min late.\n",
            "Welcome to Festivus Ebrahim... You're 77 min late.\n"
          ],
          "name": "stdout"
        }
      ]
    },
    {
      "cell_type": "code",
      "metadata": {
        "id": "D2_3WLw6Dxl2"
      },
      "source": [
        ""
      ],
      "execution_count": null,
      "outputs": []
    }
  ]
}