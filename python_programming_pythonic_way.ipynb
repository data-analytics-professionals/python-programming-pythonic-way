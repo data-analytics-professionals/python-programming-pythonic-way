{
  "nbformat": 4,
  "nbformat_minor": 0,
  "metadata": {
    "colab": {
      "name": "python-programming-pythonic-way",
      "provenance": [],
      "collapsed_sections": [],
      "authorship_tag": "ABX9TyN7x6BPz6fxrJKLDT10FFCu"
    },
    "kernelspec": {
      "name": "python3",
      "display_name": "Python 3"
    }
  },
  "cells": [
    {
      "cell_type": "markdown",
      "metadata": {
        "id": "r0vhvpcc0hr8"
      },
      "source": [
        "# List Comprehension"
      ]
    },
    {
      "cell_type": "code",
      "metadata": {
        "colab": {
          "base_uri": "https://localhost:8080/"
        },
        "id": "q3x37clbvmip",
        "outputId": "c7c2065a-8cbc-4392-d237-b6471a35a751"
      },
      "source": [
        "# create a list names with some names\r\n",
        "names = ['Asiya', 'Shahnaz', 'Ibrahim','John', 'Jerry', 'Khan', 'Kramer', 'Ebrahim', 'Elaine', 'George', 'Newman']\r\n",
        "\r\n",
        "# Print the list created by using list comprehension\r\n",
        "best_list = [name for name in names if len(name) >= 6]\r\n",
        "print(best_list)"
      ],
      "execution_count": 6,
      "outputs": [
        {
          "output_type": "stream",
          "text": [
            "['Shahnaz', 'Ibrahim', 'Kramer', 'Ebrahim', 'Elaine', 'George', 'Newman']\n"
          ],
          "name": "stdout"
        }
      ]
    },
    {
      "cell_type": "markdown",
      "metadata": {
        "id": "AWUmRoCb0omk"
      },
      "source": [
        "# Zen of Python"
      ]
    },
    {
      "cell_type": "code",
      "metadata": {
        "colab": {
          "base_uri": "https://localhost:8080/"
        },
        "id": "5-3RY02tx8pq",
        "outputId": "ac43b2a4-ec3a-491c-b550-3aa0e1062a6b"
      },
      "source": [
        "# Zen of Python\r\n",
        "import this "
      ],
      "execution_count": 7,
      "outputs": [
        {
          "output_type": "stream",
          "text": [
            "The Zen of Python, by Tim Peters\n",
            "\n",
            "Beautiful is better than ugly.\n",
            "Explicit is better than implicit.\n",
            "Simple is better than complex.\n",
            "Complex is better than complicated.\n",
            "Flat is better than nested.\n",
            "Sparse is better than dense.\n",
            "Readability counts.\n",
            "Special cases aren't special enough to break the rules.\n",
            "Although practicality beats purity.\n",
            "Errors should never pass silently.\n",
            "Unless explicitly silenced.\n",
            "In the face of ambiguity, refuse the temptation to guess.\n",
            "There should be one-- and preferably only one --obvious way to do it.\n",
            "Although that way may not be obvious at first unless you're Dutch.\n",
            "Now is better than never.\n",
            "Although never is often better than *right* now.\n",
            "If the implementation is hard to explain, it's a bad idea.\n",
            "If the implementation is easy to explain, it may be a good idea.\n",
            "Namespaces are one honking great idea -- let's do more of those!\n"
          ],
          "name": "stdout"
        }
      ]
    },
    {
      "cell_type": "markdown",
      "metadata": {
        "id": "OknwSxUC0yxi"
      },
      "source": [
        "# Range and Lists"
      ]
    },
    {
      "cell_type": "code",
      "metadata": {
        "id": "cqhIkuhyzYvR"
      },
      "source": [
        "# Create a range object that goes from 0 to 100\r\n",
        "nums = range(101)\r\n",
        "print(type(nums))\r\n",
        "\r\n",
        "# Convert nums to a list\r\n",
        "nums_list = list(nums)\r\n",
        "print(nums_list)\r\n",
        "\r\n",
        "# Create a new list of odd numbers from 1 to 111 by unpacking a range object\r\n",
        "nums_list2 = [*range(1,112,2)]\r\n",
        "print(nums_list2)"
      ],
      "execution_count": null,
      "outputs": []
    },
    {
      "cell_type": "markdown",
      "metadata": {
        "id": "WvZZ2j3P2H9a"
      },
      "source": [
        "# Python's Built-in Function Enumerate"
      ]
    },
    {
      "cell_type": "markdown",
      "metadata": {
        "id": "OKA4CDy93-Yq"
      },
      "source": [
        "### Python's built-in enumerate() function allows to create an index for each item in the object you give it. We can use list comprehension, or even unpack the enumerate object directly into a list, to write a nice simple one-liner. Lets see this in action."
      ]
    },
    {
      "cell_type": "code",
      "metadata": {
        "colab": {
          "base_uri": "https://localhost:8080/"
        },
        "id": "NKFjz4p60dxJ",
        "outputId": "18648844-a313-4304-bd5e-bff7a22ec689"
      },
      "source": [
        "# for loop to use enumerate\r\n",
        "indexed_names = []\r\n",
        "for i, name in enumerate(names):\r\n",
        "    index_name = (i,name)\r\n",
        "    indexed_names.append(index_name) \r\n",
        "print(indexed_names)\r\n",
        "\r\n",
        "# Rewrite the above for loop using list comprehension\r\n",
        "indexed_names_comp = [(i, name) for i,name in enumerate(names)]\r\n",
        "print(indexed_names_comp)\r\n",
        "\r\n",
        "# Unpack an enumerate object with a starting index of one\r\n",
        "indexed_names_unpack = [* enumerate(names, 1)]\r\n",
        "print(indexed_names_unpack)"
      ],
      "execution_count": 8,
      "outputs": [
        {
          "output_type": "stream",
          "text": [
            "[(0, 'Asiya'), (1, 'Shahnaz'), (2, 'Ibrahim'), (3, 'John'), (4, 'Jerry'), (5, 'Khan'), (6, 'Kramer'), (7, 'Ebrahim'), (8, 'Elaine'), (9, 'George'), (10, 'Newman')]\n",
            "[(0, 'Asiya'), (1, 'Shahnaz'), (2, 'Ibrahim'), (3, 'John'), (4, 'Jerry'), (5, 'Khan'), (6, 'Kramer'), (7, 'Ebrahim'), (8, 'Elaine'), (9, 'George'), (10, 'Newman')]\n",
            "[(1, 'Asiya'), (2, 'Shahnaz'), (3, 'Ibrahim'), (4, 'John'), (5, 'Jerry'), (6, 'Khan'), (7, 'Kramer'), (8, 'Ebrahim'), (9, 'Elaine'), (10, 'George'), (11, 'Newman')]\n"
          ],
          "name": "stdout"
        }
      ]
    },
    {
      "cell_type": "code",
      "metadata": {
        "id": "A89aEKVn2cPL"
      },
      "source": [
        ""
      ],
      "execution_count": null,
      "outputs": []
    }
  ]
}