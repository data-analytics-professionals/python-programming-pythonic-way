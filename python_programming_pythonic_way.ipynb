{
  "nbformat": 4,
  "nbformat_minor": 0,
  "metadata": {
    "colab": {
      "name": "python-programming-pythonic-way",
      "provenance": [],
      "collapsed_sections": [],
      "authorship_tag": "ABX9TyMUtMrgxUUn/D6EffEYqO+L",
      "include_colab_link": true
    },
    "kernelspec": {
      "name": "python3",
      "display_name": "Python 3"
    }
  },
  "cells": [
    {
      "cell_type": "markdown",
      "metadata": {
        "id": "view-in-github",
        "colab_type": "text"
      },
      "source": [
        "<a href=\"https://colab.research.google.com/github/data-analytics-professionals/python-programming-pythonic-way/blob/main/python_programming_pythonic_way.ipynb\" target=\"_parent\"><img src=\"https://colab.research.google.com/assets/colab-badge.svg\" alt=\"Open In Colab\"/></a>"
      ]
    },
    {
      "cell_type": "code",
      "metadata": {
        "colab": {
          "base_uri": "https://localhost:8080/"
        },
        "id": "q3x37clbvmip",
        "outputId": "c7c2065a-8cbc-4392-d237-b6471a35a751"
      },
      "source": [
        "# create a list names with some names\r\n",
        "names = ['Asiya', 'Shahnaz', 'Ibrahim','John', 'Jerry', 'Khan', 'Kramer', 'Ebrahim', 'Elaine', 'George', 'Newman']\r\n",
        "\r\n",
        "# Print the list created by using list comprehension\r\n",
        "best_list = [name for name in names if len(name) >= 6]\r\n",
        "print(best_list)"
      ],
      "execution_count": 6,
      "outputs": [
        {
          "output_type": "stream",
          "text": [
            "['Shahnaz', 'Ibrahim', 'Kramer', 'Ebrahim', 'Elaine', 'George', 'Newman']\n"
          ],
          "name": "stdout"
        }
      ]
    },
    {
      "cell_type": "code",
      "metadata": {
        "id": "5-3RY02tx8pq"
      },
      "source": [
        ""
      ],
      "execution_count": 1,
      "outputs": []
    }
  ]
}