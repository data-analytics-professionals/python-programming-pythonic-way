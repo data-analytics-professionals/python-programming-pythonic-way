{
  "nbformat": 4,
  "nbformat_minor": 0,
  "metadata": {
    "colab": {
      "name": "python-programming-pythonic-way",
      "provenance": [],
      "collapsed_sections": [],
      "authorship_tag": "ABX9TyOiZRFMY4VnW4u24iAFNXih"
    },
    "kernelspec": {
      "name": "python3",
      "display_name": "Python 3"
    }
  },
  "cells": [
    {
      "cell_type": "code",
      "metadata": {
        "colab": {
          "base_uri": "https://localhost:8080/"
        },
        "id": "q3x37clbvmip",
        "outputId": "c7c2065a-8cbc-4392-d237-b6471a35a751"
      },
      "source": [
        "# create a list names with some names\r\n",
        "names = ['Asiya', 'Shahnaz', 'Ibrahim','John', 'Jerry', 'Khan', 'Kramer', 'Ebrahim', 'Elaine', 'George', 'Newman']\r\n",
        "\r\n",
        "# Print the list created by using list comprehension\r\n",
        "best_list = [name for name in names if len(name) >= 6]\r\n",
        "print(best_list)"
      ],
      "execution_count": 6,
      "outputs": [
        {
          "output_type": "stream",
          "text": [
            "['Shahnaz', 'Ibrahim', 'Kramer', 'Ebrahim', 'Elaine', 'George', 'Newman']\n"
          ],
          "name": "stdout"
        }
      ]
    },
    {
      "cell_type": "code",
      "metadata": {
        "colab": {
          "base_uri": "https://localhost:8080/"
        },
        "id": "5-3RY02tx8pq",
        "outputId": "ac43b2a4-ec3a-491c-b550-3aa0e1062a6b"
      },
      "source": [
        "# Zen of Python\r\n",
        "import this "
      ],
      "execution_count": 7,
      "outputs": [
        {
          "output_type": "stream",
          "text": [
            "The Zen of Python, by Tim Peters\n",
            "\n",
            "Beautiful is better than ugly.\n",
            "Explicit is better than implicit.\n",
            "Simple is better than complex.\n",
            "Complex is better than complicated.\n",
            "Flat is better than nested.\n",
            "Sparse is better than dense.\n",
            "Readability counts.\n",
            "Special cases aren't special enough to break the rules.\n",
            "Although practicality beats purity.\n",
            "Errors should never pass silently.\n",
            "Unless explicitly silenced.\n",
            "In the face of ambiguity, refuse the temptation to guess.\n",
            "There should be one-- and preferably only one --obvious way to do it.\n",
            "Although that way may not be obvious at first unless you're Dutch.\n",
            "Now is better than never.\n",
            "Although never is often better than *right* now.\n",
            "If the implementation is hard to explain, it's a bad idea.\n",
            "If the implementation is easy to explain, it may be a good idea.\n",
            "Namespaces are one honking great idea -- let's do more of those!\n"
          ],
          "name": "stdout"
        }
      ]
    },
    {
      "cell_type": "code",
      "metadata": {
        "id": "cqhIkuhyzYvR"
      },
      "source": [
        ""
      ],
      "execution_count": null,
      "outputs": []
    }
  ]
}