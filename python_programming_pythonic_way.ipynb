{
  "nbformat": 4,
  "nbformat_minor": 0,
  "metadata": {
    "colab": {
      "name": "python-programming-pythonic-way",
      "provenance": [],
      "collapsed_sections": [],
      "authorship_tag": "ABX9TyMrjAHp25/LfspY+Ujx0+pq"
    },
    "kernelspec": {
      "name": "python3",
      "display_name": "Python 3"
    }
  },
  "cells": [
    {
      "cell_type": "markdown",
      "metadata": {
        "id": "r0vhvpcc0hr8"
      },
      "source": [
        "# List Comprehension"
      ]
    },
    {
      "cell_type": "code",
      "metadata": {
        "colab": {
          "base_uri": "https://localhost:8080/"
        },
        "id": "q3x37clbvmip",
        "outputId": "686df2f6-89a1-4a33-dd08-2a850ff4797a"
      },
      "source": [
        "# create a list names with some names\r\n",
        "names = ['Asiya', 'Shahnaz', 'Ibrahim','John', 'Jerry', 'Khan', 'Kramer', 'Ebrahim', 'Elaine', 'George', 'Newman']\r\n",
        "\r\n",
        "# Print the list created by using list comprehension\r\n",
        "best_list = [name for name in names if len(name) >= 6]\r\n",
        "print(best_list)"
      ],
      "execution_count": 1,
      "outputs": [
        {
          "output_type": "stream",
          "text": [
            "['Shahnaz', 'Ibrahim', 'Kramer', 'Ebrahim', 'Elaine', 'George', 'Newman']\n"
          ],
          "name": "stdout"
        }
      ]
    },
    {
      "cell_type": "markdown",
      "metadata": {
        "id": "AWUmRoCb0omk"
      },
      "source": [
        "# Zen of Python"
      ]
    },
    {
      "cell_type": "code",
      "metadata": {
        "colab": {
          "base_uri": "https://localhost:8080/"
        },
        "id": "5-3RY02tx8pq",
        "outputId": "4b3e7305-9c02-4bb2-c6b6-24aec3b6a569"
      },
      "source": [
        "# Zen of Python\r\n",
        "import this "
      ],
      "execution_count": 2,
      "outputs": [
        {
          "output_type": "stream",
          "text": [
            "The Zen of Python, by Tim Peters\n",
            "\n",
            "Beautiful is better than ugly.\n",
            "Explicit is better than implicit.\n",
            "Simple is better than complex.\n",
            "Complex is better than complicated.\n",
            "Flat is better than nested.\n",
            "Sparse is better than dense.\n",
            "Readability counts.\n",
            "Special cases aren't special enough to break the rules.\n",
            "Although practicality beats purity.\n",
            "Errors should never pass silently.\n",
            "Unless explicitly silenced.\n",
            "In the face of ambiguity, refuse the temptation to guess.\n",
            "There should be one-- and preferably only one --obvious way to do it.\n",
            "Although that way may not be obvious at first unless you're Dutch.\n",
            "Now is better than never.\n",
            "Although never is often better than *right* now.\n",
            "If the implementation is hard to explain, it's a bad idea.\n",
            "If the implementation is easy to explain, it may be a good idea.\n",
            "Namespaces are one honking great idea -- let's do more of those!\n"
          ],
          "name": "stdout"
        }
      ]
    },
    {
      "cell_type": "markdown",
      "metadata": {
        "id": "OknwSxUC0yxi"
      },
      "source": [
        "# Range and Lists"
      ]
    },
    {
      "cell_type": "code",
      "metadata": {
        "colab": {
          "base_uri": "https://localhost:8080/"
        },
        "id": "cqhIkuhyzYvR",
        "outputId": "39cb8c00-3610-40ce-8f87-0f307ca95c5c"
      },
      "source": [
        "# Create a range object that goes from 0 to 100\r\n",
        "nums = range(101)\r\n",
        "print(type(nums))\r\n",
        "\r\n",
        "# Convert nums to a list\r\n",
        "nums_list = list(nums)\r\n",
        "print(nums_list)\r\n",
        "\r\n",
        "# Create a new list of odd numbers from 1 to 111 by unpacking a range object\r\n",
        "nums_list2 = [*range(1,112,2)]\r\n",
        "print(nums_list2)"
      ],
      "execution_count": 3,
      "outputs": [
        {
          "output_type": "stream",
          "text": [
            "<class 'range'>\n",
            "[0, 1, 2, 3, 4, 5, 6, 7, 8, 9, 10, 11, 12, 13, 14, 15, 16, 17, 18, 19, 20, 21, 22, 23, 24, 25, 26, 27, 28, 29, 30, 31, 32, 33, 34, 35, 36, 37, 38, 39, 40, 41, 42, 43, 44, 45, 46, 47, 48, 49, 50, 51, 52, 53, 54, 55, 56, 57, 58, 59, 60, 61, 62, 63, 64, 65, 66, 67, 68, 69, 70, 71, 72, 73, 74, 75, 76, 77, 78, 79, 80, 81, 82, 83, 84, 85, 86, 87, 88, 89, 90, 91, 92, 93, 94, 95, 96, 97, 98, 99, 100]\n",
            "[1, 3, 5, 7, 9, 11, 13, 15, 17, 19, 21, 23, 25, 27, 29, 31, 33, 35, 37, 39, 41, 43, 45, 47, 49, 51, 53, 55, 57, 59, 61, 63, 65, 67, 69, 71, 73, 75, 77, 79, 81, 83, 85, 87, 89, 91, 93, 95, 97, 99, 101, 103, 105, 107, 109, 111]\n"
          ],
          "name": "stdout"
        }
      ]
    },
    {
      "cell_type": "markdown",
      "metadata": {
        "id": "WvZZ2j3P2H9a"
      },
      "source": [
        "# Python's Built-in Function Enumerate"
      ]
    },
    {
      "cell_type": "markdown",
      "metadata": {
        "id": "OKA4CDy93-Yq"
      },
      "source": [
        "### Python's built-in enumerate() function allows to create an index for each item in the object you give it. We can use list comprehension, or even unpack the enumerate object directly into a list, to write a nice simple one-liner. Lets see this in action."
      ]
    },
    {
      "cell_type": "code",
      "metadata": {
        "colab": {
          "base_uri": "https://localhost:8080/"
        },
        "id": "NKFjz4p60dxJ",
        "outputId": "3ff7f85f-9eb9-4db3-e405-bebcf912aa25"
      },
      "source": [
        "# for loop to use enumerate\r\n",
        "indexed_names = []\r\n",
        "for i, name in enumerate(names):\r\n",
        "    index_name = (i,name)\r\n",
        "    indexed_names.append(index_name) \r\n",
        "print(indexed_names)\r\n",
        "\r\n",
        "# Rewrite the above for loop using list comprehension\r\n",
        "indexed_names_comp = [(i, name) for i,name in enumerate(names)]\r\n",
        "print(indexed_names_comp)\r\n",
        "\r\n",
        "# Unpack an enumerate object with a starting index of one\r\n",
        "indexed_names_unpack = [* enumerate(names, 1)]\r\n",
        "print(indexed_names_unpack)"
      ],
      "execution_count": 4,
      "outputs": [
        {
          "output_type": "stream",
          "text": [
            "[(0, 'Asiya'), (1, 'Shahnaz'), (2, 'Ibrahim'), (3, 'John'), (4, 'Jerry'), (5, 'Khan'), (6, 'Kramer'), (7, 'Ebrahim'), (8, 'Elaine'), (9, 'George'), (10, 'Newman')]\n",
            "[(0, 'Asiya'), (1, 'Shahnaz'), (2, 'Ibrahim'), (3, 'John'), (4, 'Jerry'), (5, 'Khan'), (6, 'Kramer'), (7, 'Ebrahim'), (8, 'Elaine'), (9, 'George'), (10, 'Newman')]\n",
            "[(1, 'Asiya'), (2, 'Shahnaz'), (3, 'Ibrahim'), (4, 'John'), (5, 'Jerry'), (6, 'Khan'), (7, 'Kramer'), (8, 'Ebrahim'), (9, 'Elaine'), (10, 'George'), (11, 'Newman')]\n"
          ],
          "name": "stdout"
        }
      ]
    },
    {
      "cell_type": "markdown",
      "metadata": {
        "id": "SlCralOz0Rmc"
      },
      "source": [
        "# Python's Built-in map() Function"
      ]
    },
    {
      "cell_type": "code",
      "metadata": {
        "colab": {
          "base_uri": "https://localhost:8080/"
        },
        "id": "A89aEKVn2cPL",
        "outputId": "aa108b65-5ef3-420f-b205-4e56ccb3def7"
      },
      "source": [
        "# Use map to apply str.upper function to each element in names\r\n",
        "names_map  = map(str.upper, names)\r\n",
        "\r\n",
        "# Print the type of the names_map\r\n",
        "print(type(names_map))\r\n",
        "\r\n",
        "# Unpack names_map into a list\r\n",
        "names_uppercase = [* names_map]\r\n",
        "\r\n",
        "# Print the list created above\r\n",
        "print(names_uppercase) "
      ],
      "execution_count": 5,
      "outputs": [
        {
          "output_type": "stream",
          "text": [
            "<class 'map'>\n",
            "['ASIYA', 'SHAHNAZ', 'IBRAHIM', 'JOHN', 'JERRY', 'KHAN', 'KRAMER', 'EBRAHIM', 'ELAINE', 'GEORGE', 'NEWMAN']\n"
          ],
          "name": "stdout"
        }
      ]
    },
    {
      "cell_type": "code",
      "metadata": {
        "id": "DB4tWtj70nmx"
      },
      "source": [
        ""
      ],
      "execution_count": 5,
      "outputs": []
    }
  ]
}